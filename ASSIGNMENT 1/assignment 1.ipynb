{
 "cells": [
  {
   "cell_type": "markdown",
   "id": "adf26d0c",
   "metadata": {},
   "source": [
    "## Name: Om Mhatre (S2188674)"
   ]
  },
  {
   "cell_type": "markdown",
   "id": "24afe661",
   "metadata": {},
   "source": [
    "# exersize 1"
   ]
  },
  {
   "cell_type": "code",
   "execution_count": 16,
   "id": "67dda771",
   "metadata": {},
   "outputs": [],
   "source": [
    "def add(a,b):\n",
    "    z = a + b\n",
    "    return z   "
   ]
  },
  {
   "cell_type": "code",
   "execution_count": 17,
   "id": "48d524f0",
   "metadata": {},
   "outputs": [],
   "source": [
    "def sub(a,b):\n",
    "    z = a - b\n",
    "    return z    "
   ]
  },
  {
   "cell_type": "code",
   "execution_count": 18,
   "id": "cc9e27c8",
   "metadata": {},
   "outputs": [],
   "source": [
    "def mult(a,b):\n",
    "    z = a * b\n",
    "    return z"
   ]
  },
  {
   "cell_type": "code",
   "execution_count": 19,
   "id": "3186b6d5",
   "metadata": {},
   "outputs": [],
   "source": [
    "def divi(a,b):\n",
    "    z = a / b\n",
    "    return z   "
   ]
  },
  {
   "cell_type": "code",
   "execution_count": 20,
   "id": "5183c2c2",
   "metadata": {},
   "outputs": [],
   "source": [
    "k = add (20,10) \n",
    "\n",
    "l = divi(20,10)\n",
    "\n",
    "m = mult(20,10)\n",
    "\n",
    "n = sub(20,10)"
   ]
  },
  {
   "cell_type": "code",
   "execution_count": 21,
   "id": "5726b810",
   "metadata": {},
   "outputs": [
    {
     "name": "stdout",
     "output_type": "stream",
     "text": [
      "30\n"
     ]
    }
   ],
   "source": [
    "print(k)"
   ]
  },
  {
   "cell_type": "code",
   "execution_count": 22,
   "id": "eea55517",
   "metadata": {},
   "outputs": [
    {
     "name": "stdout",
     "output_type": "stream",
     "text": [
      "2.0\n"
     ]
    }
   ],
   "source": [
    "print(l)"
   ]
  },
  {
   "cell_type": "code",
   "execution_count": 23,
   "id": "64332316",
   "metadata": {},
   "outputs": [
    {
     "name": "stdout",
     "output_type": "stream",
     "text": [
      "200\n"
     ]
    }
   ],
   "source": [
    "print(m)"
   ]
  },
  {
   "cell_type": "code",
   "execution_count": 24,
   "id": "dbf170d6",
   "metadata": {},
   "outputs": [
    {
     "name": "stdout",
     "output_type": "stream",
     "text": [
      "10\n"
     ]
    }
   ],
   "source": [
    "print(n)"
   ]
  },
  {
   "cell_type": "code",
   "execution_count": null,
   "id": "62db13d6",
   "metadata": {},
   "outputs": [],
   "source": []
  },
  {
   "cell_type": "markdown",
   "id": "9b435315",
   "metadata": {},
   "source": [
    "# exersize 2"
   ]
  },
  {
   "cell_type": "code",
   "execution_count": 25,
   "id": "956484dd",
   "metadata": {},
   "outputs": [
    {
     "name": "stdout",
     "output_type": "stream",
     "text": [
      "Enter the name of a subject: Chemistry\n",
      "The subject is available\n"
     ]
    }
   ],
   "source": [
    "# Predefined list of subjects\n",
    "subjects = [\"Software\", \"Chemistry\", \"English\", \"Arabic\"]\n",
    "\n",
    "# Function to check if the subject is available\n",
    "def check_subject_availability(user_subject):\n",
    "    if user_subject in subjects:\n",
    "        return \"The subject is available\"\n",
    "    else:\n",
    "        return \"The subject is not available\"\n",
    "\n",
    "# Prompt the user to enter the subject name\n",
    "user_subject = input(\"Enter the name of a subject: \")\n",
    "\n",
    "# Check and display the result\n",
    "result = check_subject_availability(user_subject)\n",
    "print(result)"
   ]
  },
  {
   "cell_type": "code",
   "execution_count": null,
   "id": "e0214447",
   "metadata": {},
   "outputs": [],
   "source": [
    "LXNC"
   ]
  },
  {
   "cell_type": "code",
   "execution_count": null,
   "id": "95d784cc",
   "metadata": {},
   "outputs": [],
   "source": []
  },
  {
   "cell_type": "code",
   "execution_count": null,
   "id": "c9cd6fcc",
   "metadata": {},
   "outputs": [],
   "source": []
  },
  {
   "cell_type": "code",
   "execution_count": null,
   "id": "52d5da03",
   "metadata": {},
   "outputs": [],
   "source": []
  },
  {
   "cell_type": "code",
   "execution_count": null,
   "id": "4a6420e0",
   "metadata": {},
   "outputs": [],
   "source": []
  },
  {
   "cell_type": "code",
   "execution_count": null,
   "id": "166d24d0",
   "metadata": {},
   "outputs": [],
   "source": []
  },
  {
   "cell_type": "code",
   "execution_count": null,
   "id": "3411521d",
   "metadata": {},
   "outputs": [],
   "source": []
  },
  {
   "cell_type": "code",
   "execution_count": null,
   "id": "b82f4211",
   "metadata": {},
   "outputs": [],
   "source": []
  }
 ],
 "metadata": {
  "kernelspec": {
   "display_name": "Python 3 (ipykernel)",
   "language": "python",
   "name": "python3"
  },
  "language_info": {
   "codemirror_mode": {
    "name": "ipython",
    "version": 3
   },
   "file_extension": ".py",
   "mimetype": "text/x-python",
   "name": "python",
   "nbconvert_exporter": "python",
   "pygments_lexer": "ipython3",
   "version": "3.11.5"
  }
 },
 "nbformat": 4,
 "nbformat_minor": 5
}
