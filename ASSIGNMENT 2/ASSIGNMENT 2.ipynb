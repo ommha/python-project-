{
 "cells": [
  {
   "cell_type": "markdown",
   "id": "adf4e5a9",
   "metadata": {},
   "source": [
    "# Name: Om Mhatre (S21886874)"
   ]
  },
  {
   "cell_type": "markdown",
   "id": "953b8a06",
   "metadata": {},
   "source": [
    "# Exersize 1"
   ]
  },
  {
   "cell_type": "code",
   "execution_count": 7,
   "id": "392b0959",
   "metadata": {},
   "outputs": [
    {
     "name": "stdout",
     "output_type": "stream",
     "text": [
      "1\n",
      "2\n",
      "3\n",
      "4\n",
      "5\n",
      "6\n",
      "7\n",
      "8\n",
      "9\n",
      "10\n"
     ]
    }
   ],
   "source": [
    "for x in range(1,11):      #if 1, not written it will start from 0 \n",
    "         print(x)           #will end at 100-1 "
   ]
  },
  {
   "cell_type": "markdown",
   "id": "d3d3d525",
   "metadata": {},
   "source": [
    "# Exersize 2"
   ]
  },
  {
   "cell_type": "code",
   "execution_count": 8,
   "id": "3fc10939",
   "metadata": {},
   "outputs": [
    {
     "name": "stdout",
     "output_type": "stream",
     "text": [
      "this is a even number 2\n",
      "this is a even number 4\n",
      "this is a even number 6\n",
      "this is a even number 8\n",
      "this is a even number 10\n"
     ]
    }
   ],
   "source": [
    "count = 1\n",
    "while (count <= 10):\n",
    "    \n",
    "    if count % 2 == 0:  \n",
    "        \n",
    "        print(\"this is a even number\",count)\n",
    "        #will stop at first even number only wont go ahead\n",
    "        \n",
    "        \n",
    "    \n",
    "    count = count+1"
   ]
  },
  {
   "cell_type": "markdown",
   "id": "0117e487",
   "metadata": {},
   "source": [
    "# Exersize 3"
   ]
  },
  {
   "cell_type": "code",
   "execution_count": 9,
   "id": "22e19c5b",
   "metadata": {},
   "outputs": [
    {
     "name": "stdout",
     "output_type": "stream",
     "text": [
      "1 * 1 = 1\n",
      "1 * 2 = 2\n",
      "1 * 3 = 3\n",
      "1 * 4 = 4\n",
      "1 * 5 = 5\n",
      "------\n",
      "2 * 1 = 2\n",
      "2 * 2 = 4\n",
      "2 * 3 = 6\n",
      "2 * 4 = 8\n",
      "2 * 5 = 10\n",
      "------\n",
      "3 * 1 = 3\n",
      "3 * 2 = 6\n",
      "3 * 3 = 9\n",
      "3 * 4 = 12\n",
      "3 * 5 = 15\n",
      "------\n",
      "4 * 1 = 4\n",
      "4 * 2 = 8\n",
      "4 * 3 = 12\n",
      "4 * 4 = 16\n",
      "4 * 5 = 20\n",
      "------\n",
      "5 * 1 = 5\n",
      "5 * 2 = 10\n",
      "5 * 3 = 15\n",
      "5 * 4 = 20\n",
      "5 * 5 = 25\n",
      "------\n"
     ]
    }
   ],
   "source": [
    "import math\n",
    "\n",
    "for i in range (1,6):\n",
    "    for j in range (1,6):\n",
    "        print(i, \"*\", j, \"=\", i*j)     #math.pow(i,j) gives power\n",
    "    print(\"------\")"
   ]
  },
  {
   "cell_type": "code",
   "execution_count": null,
   "id": "874de481",
   "metadata": {},
   "outputs": [],
   "source": []
  }
 ],
 "metadata": {
  "kernelspec": {
   "display_name": "Python 3 (ipykernel)",
   "language": "python",
   "name": "python3"
  },
  "language_info": {
   "codemirror_mode": {
    "name": "ipython",
    "version": 3
   },
   "file_extension": ".py",
   "mimetype": "text/x-python",
   "name": "python",
   "nbconvert_exporter": "python",
   "pygments_lexer": "ipython3",
   "version": "3.11.5"
  }
 },
 "nbformat": 4,
 "nbformat_minor": 5
}
