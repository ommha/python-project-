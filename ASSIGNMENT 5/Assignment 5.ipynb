{
 "cells": [
  {
   "cell_type": "markdown",
   "id": "d23505ce",
   "metadata": {},
   "source": [
    "# Exersize 1"
   ]
  },
  {
   "cell_type": "code",
   "execution_count": 7,
   "id": "ff862a27",
   "metadata": {},
   "outputs": [],
   "source": [
    "import csv\n",
    "input_file = 'students.csv'\n",
    "output_file = 'top_students.csv'\n",
    "with open(input_file, 'r') as file:\n",
    "    csv_reader = csv.DictReader(file)\n",
    "   # define \n",
    "    modified_rows=[]\n",
    "    for row in csv_reader:\n",
    "        # Check if the grade is greater than or equal to 'B'\n",
    "        if row['Grade'] <= 'B':\n",
    "            # Add a new 'Status' column and set its value to 'Passed'\n",
    "            row['Status'] = 'Passed'\n",
    "            # Append the row to the list\n",
    "            #pint(row)\n",
    "            modified_rows.append(row) #save\n",
    "\n",
    "with open(output_file, 'w', newline='') as file:\n",
    "    \n",
    "    writer = csv.writer(file)\n",
    "    writer.writerow(['Name', 'Age', 'Grade', 'Status'])\n",
    "    \n",
    "    for student in modified_rows:\n",
    "        writer.writerow([student['Name'], student['Age'], student['Grade'], student['Status']])\n",
    "            "
   ]
  },
  {
   "cell_type": "markdown",
   "id": "a1296d47",
   "metadata": {},
   "source": [
    "# Exersize 2"
   ]
  },
  {
   "cell_type": "code",
   "execution_count": 1,
   "id": "c5e2a5fa",
   "metadata": {},
   "outputs": [
    {
     "name": "stdout",
     "output_type": "stream",
     "text": [
      "Enter the name of a state: Johor\n",
      "Population of Johor : 3794000\n"
     ]
    }
   ],
   "source": [
    "import requests\n",
    "api_url = \"https://jian.sh/malaysia-api/state/v1/all.json\"\n",
    "response = requests.get(api_url)\n",
    "malaysia_state_data = response.json()\n",
    "\n",
    "state_input = input(\"Enter the name of a state: \")\n",
    "for state in malaysia_state_data:\n",
    "        if state['state'] == state_input:\n",
    "            print(\"Population of\", state_input,\":\",state['population'])   \n",
    "        break\n",
    "if state['state'] != state_input:\n",
    "    print(state_input,'is not found in the data')\n",
    "         \n"
   ]
  },
  {
   "cell_type": "code",
   "execution_count": null,
   "id": "b0cab766",
   "metadata": {},
   "outputs": [],
   "source": []
  }
 ],
 "metadata": {
  "kernelspec": {
   "display_name": "Python 3 (ipykernel)",
   "language": "python",
   "name": "python3"
  },
  "language_info": {
   "codemirror_mode": {
    "name": "ipython",
    "version": 3
   },
   "file_extension": ".py",
   "mimetype": "text/x-python",
   "name": "python",
   "nbconvert_exporter": "python",
   "pygments_lexer": "ipython3",
   "version": "3.11.5"
  }
 },
 "nbformat": 4,
 "nbformat_minor": 5
}
