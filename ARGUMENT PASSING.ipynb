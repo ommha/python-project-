{
 "cells": [
  {
   "cell_type": "markdown",
   "id": "146f5dc1",
   "metadata": {},
   "source": [
    "# Positional Arguments "
   ]
  },
  {
   "cell_type": "code",
   "execution_count": 5,
   "id": "39cc3a52",
   "metadata": {},
   "outputs": [
    {
     "name": "stdout",
     "output_type": "stream",
     "text": [
      "Alice is enrolled in Mathematics class.\n"
     ]
    }
   ],
   "source": [
    "def student_information(class_name, student_name):\n",
    "    # Display information about a student and their class.\n",
    "    \n",
    "    print(student_name + \" is enrolled in \" + class_name + \" class.\")\n",
    "    \n",
    "    # Positional arguments:\n",
    "\n",
    "student_information('Mathematics', 'Alice')"
   ]
  },
  {
   "cell_type": "markdown",
   "id": "4a7a5367",
   "metadata": {},
   "source": [
    "# Keyword Argument"
   ]
  },
  {
   "cell_type": "code",
   "execution_count": 7,
   "id": "cfaf1bc1",
   "metadata": {},
   "outputs": [],
   "source": [
    "def student_information(class_name, student_name):\n",
    "    # Display information about a student and their class.\n",
    "    \n",
    "    print(student_name + \" is enrolled in \" + class_name + \" class.\")\n",
    "    \n",
    "    # Keyword arguments:\n",
    "\n"
   ]
  },
  {
   "cell_type": "code",
   "execution_count": 14,
   "id": "145d987a",
   "metadata": {},
   "outputs": [],
   "source": [
    "## function calling"
   ]
  },
  {
   "cell_type": "code",
   "execution_count": 8,
   "id": "2055ed79",
   "metadata": {},
   "outputs": [
    {
     "name": "stdout",
     "output_type": "stream",
     "text": [
      "alice is enrolled in maths class.\n"
     ]
    }
   ],
   "source": [
    "student_information(student_name='alice', class_name='maths')"
   ]
  },
  {
   "cell_type": "markdown",
   "id": "123ff68c",
   "metadata": {},
   "source": [
    "# Default Argument"
   ]
  },
  {
   "cell_type": "code",
   "execution_count": 9,
   "id": "b73e0b48",
   "metadata": {},
   "outputs": [],
   "source": [
    "def enroll_student(student_name, course='Introduction to Python'):\n",
    "    # Enroll a student in a course with a default option.\n",
    "    \n",
    "    print(\"Student Name: \" + student_name)\n",
    "    \n",
    "    print(\"Enrolled Course: \" + course)"
   ]
  },
  {
   "cell_type": "code",
   "execution_count": 11,
   "id": "b3802b5e",
   "metadata": {},
   "outputs": [
    {
     "name": "stdout",
     "output_type": "stream",
     "text": [
      "Student Name: om\n",
      "Enrolled Course: Introduction to Python\n"
     ]
    }
   ],
   "source": [
    "enroll_student('om')"
   ]
  },
  {
   "cell_type": "code",
   "execution_count": 13,
   "id": "e58b65c8",
   "metadata": {},
   "outputs": [
    {
     "name": "stdout",
     "output_type": "stream",
     "text": [
      "Student Name: om\n",
      "Enrolled Course: physics\n"
     ]
    }
   ],
   "source": [
    "enroll_student('om','physics')"
   ]
  },
  {
   "cell_type": "markdown",
   "id": "b5c24c7e",
   "metadata": {},
   "source": [
    "# variable-length argument*"
   ]
  },
  {
   "cell_type": "code",
   "execution_count": 15,
   "id": "cc9fc6be",
   "metadata": {},
   "outputs": [],
   "source": [
    "def enroll_in_courses(student_name, *courses):\n",
    "    # Enroll a student in multiple courses.\n",
    "    print(\"Student: \" + student_name)\n",
    "    print(\"Enrolled in:\")\n",
    "    for course in courses:\n",
    "         print(\"- \" + course)\n"
   ]
  },
  {
   "cell_type": "code",
   "execution_count": 16,
   "id": "9ef1a642",
   "metadata": {},
   "outputs": [
    {
     "name": "stdout",
     "output_type": "stream",
     "text": [
      "Student: sara\n",
      "Enrolled in:\n",
      "- english\n",
      "- programing\n",
      "- physics\n"
     ]
    }
   ],
   "source": [
    "enroll_in_courses(\"sara\",\"english\",\"programing\",\"physics\")"
   ]
  },
  {
   "cell_type": "markdown",
   "id": "ff974d60",
   "metadata": {},
   "source": [
    "# variable-length argument**"
   ]
  },
  {
   "cell_type": "code",
   "execution_count": 36,
   "id": "04839842",
   "metadata": {},
   "outputs": [],
   "source": [
    "def enroll_student(student_name, **details):\n",
    "   \n",
    "    # Enroll a student with additional details.\n",
    "    print(\"Enrolling \" + student_name + \" with the following details:\")\n",
    "    \n",
    "    for key, value in details.items():\n",
    "       \n",
    "        print(key+\"-\"+value)\n",
    "\n",
    "    # Example of enrolling a student with additional details:"
   ]
  },
  {
   "cell_type": "code",
   "execution_count": 37,
   "id": "6717e6a3",
   "metadata": {
    "scrolled": true
   },
   "outputs": [
    {
     "name": "stdout",
     "output_type": "stream",
     "text": [
      "Enrolling Smith with the following details:\n",
      "course-Algebra II\n",
      "semester-One\n",
      "payment_method-Credit Card\n"
     ]
    }
   ],
   "source": [
    "enroll_student('Smith', course='Algebra II', semester='One', payment_method='Credit Card')"
   ]
  },
  {
   "cell_type": "code",
   "execution_count": null,
   "id": "cff99eb3",
   "metadata": {},
   "outputs": [],
   "source": []
  }
 ],
 "metadata": {
  "kernelspec": {
   "display_name": "Python 3 (ipykernel)",
   "language": "python",
   "name": "python3"
  },
  "language_info": {
   "codemirror_mode": {
    "name": "ipython",
    "version": 3
   },
   "file_extension": ".py",
   "mimetype": "text/x-python",
   "name": "python",
   "nbconvert_exporter": "python",
   "pygments_lexer": "ipython3",
   "version": "3.11.5"
  }
 },
 "nbformat": 4,
 "nbformat_minor": 5
}
