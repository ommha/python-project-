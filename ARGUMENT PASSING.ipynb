{
 "cells": [
  {
   "cell_type": "markdown",
   "id": "146f5dc1",
   "metadata": {},
   "source": [
    "# Positional Arguments "
   ]
  },
  {
   "cell_type": "code",
   "execution_count": 5,
   "id": "39cc3a52",
   "metadata": {},
   "outputs": [
    {
     "name": "stdout",
     "output_type": "stream",
     "text": [
      "Alice is enrolled in Mathematics class.\n"
     ]
    }
   ],
   "source": [
    "def student_information(class_name, student_name):\n",
    "    # Display information about a student and their class.\n",
    "    \n",
    "    print(student_name + \" is enrolled in \" + class_name + \" class.\")\n",
    "    \n",
    "    # Positional arguments:\n",
    "\n",
    "student_information('Mathematics', 'Alice')"
   ]
  },
  {
   "cell_type": "markdown",
   "id": "1939a1f8",
   "metadata": {},
   "source": [
    "##HELLO SAT"
   ]
  },
  {
   "cell_type": "code",
   "execution_count": null,
   "id": "cfaf1bc1",
   "metadata": {},
   "outputs": [],
   "source": []
  }
 ],
 "metadata": {
  "kernelspec": {
   "display_name": "Python 3 (ipykernel)",
   "language": "python",
   "name": "python3"
  },
  "language_info": {
   "codemirror_mode": {
    "name": "ipython",
    "version": 3
   },
   "file_extension": ".py",
   "mimetype": "text/x-python",
   "name": "python",
   "nbconvert_exporter": "python",
   "pygments_lexer": "ipython3",
   "version": "3.11.5"
  }
 },
 "nbformat": 4,
 "nbformat_minor": 5
}
