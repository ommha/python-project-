{
 "cells": [
  {
   "cell_type": "code",
   "execution_count": 4,
   "id": "81332665",
   "metadata": {},
   "outputs": [
    {
     "name": "stdout",
     "output_type": "stream",
     "text": [
      "ABCD\n",
      "\n"
     ]
    }
   ],
   "source": [
    "with open('example.txt', 'r') as file:\n",
    "    content = file.read()\n",
    "    print(content)"
   ]
  },
  {
   "cell_type": "code",
   "execution_count": 8,
   "id": "c942ec34",
   "metadata": {},
   "outputs": [
    {
     "name": "stdout",
     "output_type": "stream",
     "text": [
      "{'Name': 'Alice', 'Age': '21', 'Grade': 'A'}\n",
      "{'Name': 'Bob', 'Age': '22', 'Grade': 'F'}\n",
      "{'Name': 'Charlie', 'Age': '18', 'Grade': 'B'}\n",
      "{'Name': 'David', 'Age': '21', 'Grade': 'A'}\n",
      "{'Name': 'Eve', 'Age': '20', 'Grade': 'A'}\n",
      "{'Name': 'Fiona', 'Age': '18', 'Grade': 'C'}\n",
      "{'Name': 'George', 'Age': '19', 'Grade': 'A'}\n",
      "{'Name': 'Hannah', 'Age': '20', 'Grade': 'C'}\n",
      "{'Name': 'Isla', 'Age': '22', 'Grade': 'A'}\n",
      "{'Name': 'Jack', 'Age': '21', 'Grade': 'B'}\n",
      "{'Name': 'Alice', 'Age': '20', 'Grade': 'C'}\n",
      "{'Name': 'Bob', 'Age': '20', 'Grade': 'C'}\n",
      "{'Name': 'Charlie', 'Age': '18', 'Grade': 'C'}\n",
      "{'Name': 'David', 'Age': '20', 'Grade': 'A'}\n",
      "{'Name': 'Eve', 'Age': '21', 'Grade': 'B'}\n",
      "{'Name': 'Fiona', 'Age': '19', 'Grade': 'C'}\n",
      "{'Name': 'George', 'Age': '18', 'Grade': 'F'}\n",
      "{'Name': 'Hannah', 'Age': '19', 'Grade': 'B'}\n",
      "{'Name': 'Isla', 'Age': '19', 'Grade': 'B'}\n",
      "{'Name': 'Jack', 'Age': '18', 'Grade': 'F'}\n",
      "{'Name': 'Alice', 'Age': '18', 'Grade': 'F'}\n",
      "{'Name': 'Bob', 'Age': '18', 'Grade': 'F'}\n",
      "{'Name': 'Charlie', 'Age': '18', 'Grade': 'C'}\n",
      "{'Name': 'David', 'Age': '18', 'Grade': 'F'}\n",
      "{'Name': 'Eve', 'Age': '20', 'Grade': 'B'}\n",
      "{'Name': 'Fiona', 'Age': '19', 'Grade': 'B'}\n",
      "{'Name': 'George', 'Age': '21', 'Grade': 'D'}\n",
      "{'Name': 'Hannah', 'Age': '19', 'Grade': 'B'}\n",
      "{'Name': 'Isla', 'Age': '19', 'Grade': 'B'}\n",
      "{'Name': 'Jack', 'Age': '18', 'Grade': 'F'}\n",
      "{'Name': 'Alice', 'Age': '19', 'Grade': 'B'}\n",
      "{'Name': 'Bob', 'Age': '20', 'Grade': 'B'}\n",
      "{'Name': 'Charlie', 'Age': '22', 'Grade': 'D'}\n",
      "{'Name': 'David', 'Age': '20', 'Grade': 'C'}\n",
      "{'Name': 'Eve', 'Age': '19', 'Grade': 'A'}\n",
      "{'Name': 'Fiona', 'Age': '20', 'Grade': 'F'}\n",
      "{'Name': 'George', 'Age': '21', 'Grade': 'F'}\n",
      "{'Name': 'Hannah', 'Age': '22', 'Grade': 'F'}\n",
      "{'Name': 'Isla', 'Age': '21', 'Grade': 'F'}\n",
      "{'Name': 'Jack', 'Age': '19', 'Grade': 'F'}\n",
      "{'Name': 'Alice', 'Age': '20', 'Grade': 'C'}\n",
      "{'Name': 'Bob', 'Age': '22', 'Grade': 'F'}\n",
      "{'Name': 'Charlie', 'Age': '21', 'Grade': 'C'}\n",
      "{'Name': 'David', 'Age': '21', 'Grade': 'C'}\n",
      "{'Name': 'Eve', 'Age': '22', 'Grade': 'A'}\n",
      "{'Name': 'Fiona', 'Age': '20', 'Grade': 'B'}\n",
      "{'Name': 'George', 'Age': '20', 'Grade': 'D'}\n",
      "{'Name': 'Hannah', 'Age': '21', 'Grade': 'F'}\n",
      "{'Name': 'Isla', 'Age': '22', 'Grade': 'B'}\n",
      "{'Name': 'Jack', 'Age': '21', 'Grade': 'B'}\n",
      "{'Name': 'Alice', 'Age': '22', 'Grade': 'B'}\n",
      "{'Name': 'Bob', 'Age': '20', 'Grade': 'C'}\n",
      "{'Name': 'Charlie', 'Age': '21', 'Grade': 'A'}\n",
      "{'Name': 'David', 'Age': '22', 'Grade': 'F'}\n",
      "{'Name': 'Eve', 'Age': '19', 'Grade': 'A'}\n",
      "{'Name': 'Fiona', 'Age': '19', 'Grade': 'F'}\n",
      "{'Name': 'George', 'Age': '21', 'Grade': 'D'}\n",
      "{'Name': 'Hannah', 'Age': '20', 'Grade': 'B'}\n",
      "{'Name': 'Isla', 'Age': '18', 'Grade': 'A'}\n",
      "{'Name': 'Jack', 'Age': '18', 'Grade': 'D'}\n",
      "{'Name': 'Alice', 'Age': '18', 'Grade': 'C'}\n",
      "{'Name': 'Bob', 'Age': '20', 'Grade': 'C'}\n",
      "{'Name': 'Charlie', 'Age': '19', 'Grade': 'C'}\n",
      "{'Name': 'David', 'Age': '20', 'Grade': 'F'}\n",
      "{'Name': 'Eve', 'Age': '18', 'Grade': 'D'}\n",
      "{'Name': 'Fiona', 'Age': '22', 'Grade': 'A'}\n",
      "{'Name': 'George', 'Age': '18', 'Grade': 'D'}\n",
      "{'Name': 'Hannah', 'Age': '18', 'Grade': 'C'}\n",
      "{'Name': 'Isla', 'Age': '20', 'Grade': 'B'}\n",
      "{'Name': 'Jack', 'Age': '20', 'Grade': 'F'}\n",
      "{'Name': 'Alice', 'Age': '22', 'Grade': 'A'}\n",
      "{'Name': 'Bob', 'Age': '20', 'Grade': 'F'}\n",
      "{'Name': 'Charlie', 'Age': '22', 'Grade': 'C'}\n",
      "{'Name': 'David', 'Age': '18', 'Grade': 'A'}\n",
      "{'Name': 'Eve', 'Age': '20', 'Grade': 'F'}\n",
      "{'Name': 'Fiona', 'Age': '19', 'Grade': 'A'}\n",
      "{'Name': 'George', 'Age': '18', 'Grade': 'F'}\n",
      "{'Name': 'Hannah', 'Age': '19', 'Grade': 'B'}\n",
      "{'Name': 'Isla', 'Age': '18', 'Grade': 'D'}\n",
      "{'Name': 'Jack', 'Age': '22', 'Grade': 'B'}\n",
      "{'Name': 'Alice', 'Age': '19', 'Grade': 'A'}\n",
      "{'Name': 'Bob', 'Age': '19', 'Grade': 'D'}\n",
      "{'Name': 'Charlie', 'Age': '19', 'Grade': 'A'}\n",
      "{'Name': 'David', 'Age': '20', 'Grade': 'F'}\n",
      "{'Name': 'Eve', 'Age': '19', 'Grade': 'B'}\n",
      "{'Name': 'Fiona', 'Age': '20', 'Grade': 'C'}\n",
      "{'Name': 'George', 'Age': '22', 'Grade': 'A'}\n",
      "{'Name': 'Hannah', 'Age': '19', 'Grade': 'D'}\n",
      "{'Name': 'Isla', 'Age': '19', 'Grade': 'C'}\n",
      "{'Name': 'Jack', 'Age': '21', 'Grade': 'C'}\n",
      "{'Name': 'Alice', 'Age': '18', 'Grade': 'A'}\n",
      "{'Name': 'Bob', 'Age': '19', 'Grade': 'B'}\n",
      "{'Name': 'Charlie', 'Age': '22', 'Grade': 'F'}\n",
      "{'Name': 'David', 'Age': '22', 'Grade': 'A'}\n",
      "{'Name': 'Eve', 'Age': '21', 'Grade': 'C'}\n",
      "{'Name': 'Fiona', 'Age': '19', 'Grade': 'F'}\n",
      "{'Name': 'George', 'Age': '18', 'Grade': 'C'}\n",
      "{'Name': 'Hannah', 'Age': '22', 'Grade': 'F'}\n",
      "{'Name': 'Isla', 'Age': '18', 'Grade': 'F'}\n",
      "{'Name': 'Jack', 'Age': '20', 'Grade': 'D'}\n"
     ]
    }
   ],
   "source": [
    "import csv\n",
    "with open('students.csv', 'r') as file:\n",
    "    csv_reader = csv.DictReader(file)    # csv.DictReader as dictionary, Only csv.reader as list\n",
    "    for row in csv_reader:\n",
    "        print(row)\n"
   ]
  },
  {
   "cell_type": "code",
   "execution_count": null,
   "id": "e512cb27",
   "metadata": {},
   "outputs": [],
   "source": [
    "import json\n",
    "with open('data.json', 'r') as file:\n",
    "    data = json.load(file)\n"
   ]
  }
 ],
 "metadata": {
  "kernelspec": {
   "display_name": "Python 3 (ipykernel)",
   "language": "python",
   "name": "python3"
  },
  "language_info": {
   "codemirror_mode": {
    "name": "ipython",
    "version": 3
   },
   "file_extension": ".py",
   "mimetype": "text/x-python",
   "name": "python",
   "nbconvert_exporter": "python",
   "pygments_lexer": "ipython3",
   "version": "3.11.5"
  }
 },
 "nbformat": 4,
 "nbformat_minor": 5
}
