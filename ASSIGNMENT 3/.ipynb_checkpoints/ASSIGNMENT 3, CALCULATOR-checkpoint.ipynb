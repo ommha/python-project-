{
 "cells": [
  {
   "cell_type": "markdown",
   "id": "efc5452d",
   "metadata": {},
   "source": [
    "# simple calculator"
   ]
  },
  {
   "cell_type": "code",
   "execution_count": 16,
   "id": "1a6a61fb",
   "metadata": {},
   "outputs": [
    {
     "name": "stdout",
     "output_type": "stream",
     "text": [
      "Enter the first number: 1\n",
      "Enter the second number: 0\n",
      "Enter the operation (+, -, *, /): /\n",
      "Error: Cannot divide by zero. Please enter a non-zero second number for division.\n"
     ]
    }
   ],
   "source": [
    "def simple_calculator():\n",
    "    try:\n",
    "        # Get user input for the first number\n",
    "        num1 = float(input(\"Enter the first number: \"))\n",
    "\n",
    "        # Get user input for the second number\n",
    "        num2 = float(input(\"Enter the second number: \"))\n",
    "\n",
    "        # Get user input for the operation\n",
    "        operation = input(\"Enter the operation (+, -, *, /): \")\n",
    "\n",
    "        # Perform the chosen operation\n",
    "        if operation == '+':\n",
    "            result = num1 + num2\n",
    "        elif operation == '-':\n",
    "            result = num1 - num2\n",
    "        elif operation == '*':\n",
    "            result = num1 * num2\n",
    "        elif operation == '/':\n",
    "            # Check for division by zero\n",
    "            if num2 == 0:\n",
    "                raise ZeroDivisionError\n",
    "            result = num1 / num2\n",
    "        else:\n",
    "            # If the user enters an invalid operation\n",
    "            raise ValueError\n",
    "\n",
    "        # Display the result\n",
    "        print(\"Result:\", result)\n",
    "\n",
    "    except ValueError:\n",
    "        print(\"An error occurred. USE + - * OR /.\")\n",
    "    except ZeroDivisionError:\n",
    "        print(\"Error: Cannot divide by zero. Please enter a non-zero second number for division.\")\n",
    "    except Exception:\n",
    "        print(\"An unexpected error occurred. Please try again.\")\n",
    "\n",
    "# Call the function to run the calculator\n",
    "simple_calculator()\n"
   ]
  },
  {
   "cell_type": "code",
   "execution_count": null,
   "id": "8eb8ae8e",
   "metadata": {},
   "outputs": [],
   "source": []
  }
 ],
 "metadata": {
  "kernelspec": {
   "display_name": "Python 3 (ipykernel)",
   "language": "python",
   "name": "python3"
  },
  "language_info": {
   "codemirror_mode": {
    "name": "ipython",
    "version": 3
   },
   "file_extension": ".py",
   "mimetype": "text/x-python",
   "name": "python",
   "nbconvert_exporter": "python",
   "pygments_lexer": "ipython3",
   "version": "3.11.5"
  }
 },
 "nbformat": 4,
 "nbformat_minor": 5
}
