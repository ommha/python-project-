{
 "cells": [
  {
   "cell_type": "markdown",
   "id": "09e737df",
   "metadata": {},
   "source": [
    "# INTRO"
   ]
  },
  {
   "cell_type": "code",
   "execution_count": 8,
   "id": "dbebdc26",
   "metadata": {},
   "outputs": [
    {
     "name": "stdout",
     "output_type": "stream",
     "text": [
      "A\n",
      "Congratulations!\n"
     ]
    }
   ],
   "source": [
    "grade = input()\n",
    "if grade == \"A\":\n",
    "    print(\"Congratulations!\")\n",
    "elif grade == \"B\":\n",
    "    print(\"Good\")\n",
    "elif grade ==\"C\":\n",
    "    print(\"Pass\")\n",
    "else:\n",
    "    print(\"No such grade in the system\")"
   ]
  },
  {
   "cell_type": "markdown",
   "id": "976749aa",
   "metadata": {},
   "source": [
    "# DEFINATION"
   ]
  },
  {
   "cell_type": "code",
   "execution_count": 104,
   "id": "b569b2e9",
   "metadata": {},
   "outputs": [
    {
     "name": "stdout",
     "output_type": "stream",
     "text": [
      "24\n"
     ]
    }
   ],
   "source": [
    "def addi(a,b):\n",
    "    z = a * b\n",
    "    return z\n",
    "print(addi(4,6))"
   ]
  },
  {
   "cell_type": "code",
   "execution_count": 105,
   "id": "5a324ab6",
   "metadata": {},
   "outputs": [
    {
     "name": "stdout",
     "output_type": "stream",
     "text": [
      "5\n",
      "6\n"
     ]
    },
    {
     "data": {
      "text/plain": [
       "30"
      ]
     },
     "execution_count": 105,
     "metadata": {},
     "output_type": "execute_result"
    }
   ],
   "source": [
    "a = int(input())\n",
    "b = int(input())\n",
    "addi(a,b)"
   ]
  },
  {
   "cell_type": "code",
   "execution_count": null,
   "id": "e38fa569",
   "metadata": {},
   "outputs": [],
   "source": []
  },
  {
   "cell_type": "code",
   "execution_count": 110,
   "id": "89a4a260",
   "metadata": {},
   "outputs": [
    {
     "name": "stdout",
     "output_type": "stream",
     "text": [
      "Enter the name of a subject: Chemistry\n",
      "The subject is available.\n"
     ]
    }
   ],
   "source": [
    "def is_subject_available(user_subject, predefined_subjects):\n",
    "    return user_subject in predefined_subjects\n",
    "\n",
    "predefined_subjects = [\"Software\", \"Chemistry\", \"English\", \"Arabic\"]\n",
    "\n",
    "user_subject = input(\"Enter the name of a subject: \")\n",
    "\n",
    "if is_subject_available(user_subject, predefined_subjects):\n",
    "    print(\"The subject is available.\")\n",
    "else:\n",
    "    print(\"The subject is not available.\")"
   ]
  },
  {
   "cell_type": "markdown",
   "id": "4f576ba6",
   "metadata": {},
   "source": [
    "# loops"
   ]
  },
  {
   "cell_type": "code",
   "execution_count": 119,
   "id": "114b50e8",
   "metadata": {},
   "outputs": [
    {
     "name": "stdout",
     "output_type": "stream",
     "text": [
      "1\n",
      "2\n",
      "3\n"
     ]
    }
   ],
   "source": [
    "nums = [1,2,3]\n",
    "\n",
    "for num in nums:\n",
    "    print(num)"
   ]
  },
  {
   "cell_type": "code",
   "execution_count": 125,
   "id": "2ab3e268",
   "metadata": {},
   "outputs": [
    {
     "name": "stdout",
     "output_type": "stream",
     "text": [
      "1\n",
      "found\n",
      "3\n"
     ]
    }
   ],
   "source": [
    "nums = [1,2,3]\n",
    "\n",
    "for num in nums:\n",
    "    if num == 2 :\n",
    "        print('found')\n",
    "        continue #break will show 1 stop (at 2) not print 3\n",
    "    print(num)"
   ]
  },
  {
   "cell_type": "code",
   "execution_count": 127,
   "id": "cc8e4389",
   "metadata": {},
   "outputs": [
    {
     "name": "stdout",
     "output_type": "stream",
     "text": [
      "1 a\n",
      "1 b\n",
      "2 a\n",
      "2 b\n",
      "3 a\n",
      "3 b\n"
     ]
    }
   ],
   "source": [
    "nums = [1,2,3]\n",
    "\n",
    "for num in nums:\n",
    "    for letter in 'ab':\n",
    "        print(num, letter)    "
   ]
  },
  {
   "cell_type": "code",
   "execution_count": 132,
   "id": "9dc4cb64",
   "metadata": {},
   "outputs": [
    {
     "name": "stdout",
     "output_type": "stream",
     "text": [
      "1\n",
      "2\n",
      "3\n",
      "4\n",
      "5\n"
     ]
    }
   ],
   "source": [
    "for i in range(1,6):\n",
    "    print(i)"
   ]
  },
  {
   "cell_type": "code",
   "execution_count": 160,
   "id": "171294ff",
   "metadata": {},
   "outputs": [
    {
     "name": "stdout",
     "output_type": "stream",
     "text": [
      "0\n",
      "1\n",
      "2\n"
     ]
    }
   ],
   "source": [
    "x = 0\n",
    "while x <= 5:\n",
    "    if x ==3:\n",
    "        break \n",
    "    print(x)\n",
    "    x+=1   #incriment by 1"
   ]
  },
  {
   "cell_type": "code",
   "execution_count": 165,
   "id": "07636b04",
   "metadata": {},
   "outputs": [
    {
     "name": "stdout",
     "output_type": "stream",
     "text": [
      "0\n",
      "1\n",
      "2\n"
     ]
    }
   ],
   "source": [
    "x = 0\n",
    "while True:\n",
    "    if x ==3:\n",
    "        break \n",
    "    print(x)\n",
    "    x+=1   #incriment by 1"
   ]
  },
  {
   "cell_type": "code",
   "execution_count": 184,
   "id": "bef5d45e",
   "metadata": {},
   "outputs": [
    {
     "name": "stdout",
     "output_type": "stream",
     "text": [
      "2\n",
      "4\n",
      "6\n",
      "8\n",
      "10\n"
     ]
    }
   ],
   "source": [
    "#Create a loop that prints only even numbers from a list of numbers from 1 to 10\n",
    "i = range(1,11)\n",
    "for num in i:\n",
    "    if num % 2 != 0:  #REMAINDER = 0 BY % SIGN WHEN DIVIDE BY 2\n",
    "        continue\n",
    "    print(num)\n"
   ]
  },
  {
   "cell_type": "code",
   "execution_count": 189,
   "id": "91c88c2c",
   "metadata": {},
   "outputs": [
    {
     "name": "stdout",
     "output_type": "stream",
     "text": [
      "1 * 1 = 1\n",
      "1 * 2 = 2\n",
      "1 * 3 = 3\n",
      "2 * 1 = 2\n",
      "2 * 2 = 4\n",
      "2 * 3 = 6\n",
      "3 * 1 = 3\n",
      "3 * 2 = 6\n",
      "3 * 3 = 9\n"
     ]
    }
   ],
   "source": [
    "k = range(1,4)\n",
    "\n",
    "for i in k:\n",
    "    for j in k:\n",
    "        print(i,'*',j,'=',i*j)"
   ]
  },
  {
   "cell_type": "markdown",
   "id": "aa10641b",
   "metadata": {},
   "source": [
    "# ARGUMENT"
   ]
  },
  {
   "cell_type": "code",
   "execution_count": 190,
   "id": "ebc10069",
   "metadata": {},
   "outputs": [
    {
     "name": "stdout",
     "output_type": "stream",
     "text": [
      "Alice is enrolled in Mathematics class.\n"
     ]
    }
   ],
   "source": [
    "#POSITIONAL ARGUMENT \n",
    "def student_information(class_name, student_name):\n",
    "    # Display information about a student and their class.\n",
    "    print(student_name + \" is enrolled in \" + class_name + \" class.\")\n",
    "\n",
    "    # Positional arguments:\n",
    "student_information('Mathematics', 'Alice')"
   ]
  },
  {
   "cell_type": "code",
   "execution_count": null,
   "id": "1882b5ae",
   "metadata": {},
   "outputs": [],
   "source": []
  },
  {
   "cell_type": "code",
   "execution_count": 191,
   "id": "43a7ce48",
   "metadata": {},
   "outputs": [
    {
     "name": "stdout",
     "output_type": "stream",
     "text": [
      "Alice is enrolled in Mathematics class.\n"
     ]
    }
   ],
   "source": [
    "# Keyword arguments\n",
    "def student_information(class_name, student_name):\n",
    "    # Display information about a student and their class.\n",
    "    print(student_name + \" is enrolled in \" + class_name + \" class.\")\n",
    "# Keyword arguments:\n",
    "student_information(class_name='Mathematics', student_name='Alice')"
   ]
  },
  {
   "cell_type": "code",
   "execution_count": null,
   "id": "253a6cee",
   "metadata": {},
   "outputs": [],
   "source": []
  },
  {
   "cell_type": "code",
   "execution_count": 198,
   "id": "fd9e98b3",
   "metadata": {},
   "outputs": [
    {
     "name": "stdout",
     "output_type": "stream",
     "text": [
      "Student Name: Sara\n",
      "Enrolled Course: Data Structures\n"
     ]
    }
   ],
   "source": [
    "# Default Arguments \n",
    "def enroll_student(student_name, course='Introduction to Python'):\n",
    "    # Enroll a student in a course with a default option.\n",
    "    print(\"Student Name: \" + student_name)\n",
    "    print(\"Enrolled Course: \" + course)   \n",
    "enroll_student(student_name='Sara', course='Data Structures')"
   ]
  },
  {
   "cell_type": "code",
   "execution_count": null,
   "id": "2f602628",
   "metadata": {},
   "outputs": [],
   "source": []
  },
  {
   "cell_type": "code",
   "execution_count": 199,
   "id": "cc4e6fb9",
   "metadata": {},
   "outputs": [
    {
     "name": "stdout",
     "output_type": "stream",
     "text": [
      "Student: Emily\n",
      "Enrolled in:\n",
      "- Biology 101\n",
      "- Chemistry 101\n",
      "- Physics 101\n"
     ]
    }
   ],
   "source": [
    "# Variable-length Arguments: *args\n",
    "def enroll_in_courses(student_name, *courses):\n",
    "    # Enroll a student in multiple courses.\n",
    "    print(\"Student: \" + student_name)\n",
    "    print(\"Enrolled in:\")\n",
    "    for course in courses:\n",
    "        print(\"- \" + course)\n",
    "# Example of enrolling a student in three different courses:\n",
    "enroll_in_courses('Emily', 'Biology 101', 'Chemistry 101', 'Physics 101')\n",
    "\n"
   ]
  },
  {
   "cell_type": "code",
   "execution_count": null,
   "id": "f7bdc166",
   "metadata": {},
   "outputs": [],
   "source": []
  },
  {
   "cell_type": "code",
   "execution_count": 216,
   "id": "18a09c37",
   "metadata": {},
   "outputs": [
    {
     "name": "stdout",
     "output_type": "stream",
     "text": [
      "Enrolling Smith with the following details:\n",
      "- Course: Algebra II\n",
      "- Semester: One\n",
      "- Payment_Method: Credit Card\n"
     ]
    }
   ],
   "source": [
    "# Variable-length Arguments: **kwargs \n",
    "def enroll_student(student_name, **details):\n",
    "     # Enroll a student with additional details.\n",
    "    print(\"Enrolling \" + student_name + \" with the following details:\")\n",
    "    for detail,value in details.items():\n",
    "        print(\"- \" + detail.title() + \": \" + value)\n",
    "# Example of enrolling a student with additional details:\n",
    "enroll_student('Smith', course='Algebra II', semester='One', payment_method='Credit Card')"
   ]
  },
  {
   "cell_type": "code",
   "execution_count": null,
   "id": "8d38daac",
   "metadata": {},
   "outputs": [],
   "source": []
  },
  {
   "cell_type": "markdown",
   "id": "e84e2aa9",
   "metadata": {},
   "source": [
    "# DATA HANDELING "
   ]
  },
  {
   "cell_type": "code",
   "execution_count": 223,
   "id": "fe9f8d2f",
   "metadata": {},
   "outputs": [
    {
     "name": "stdout",
     "output_type": "stream",
     "text": [
      "abcd.1234\n"
     ]
    }
   ],
   "source": [
    "#READING DATA from txt file\n",
    "#read() to read entire file, readline() for single line, readlines() for all lines in a list.\n",
    "with open('example.txt', 'r') as file:\n",
    "    content = file.read()\n",
    "    print(content)"
   ]
  },
  {
   "cell_type": "code",
   "execution_count": 236,
   "id": "2c288be8",
   "metadata": {},
   "outputs": [
    {
     "name": "stdout",
     "output_type": "stream",
     "text": [
      "['Name', 'Age', 'Grade']\n",
      "['Alice', '21', 'A']\n",
      "['Bob', '22', 'F']\n",
      "['Charlie', '18', 'B']\n",
      "['David', '21', 'A']\n",
      "['Eve', '20', 'A']\n",
      "['Fiona', '18', 'C']\n",
      "['George', '19', 'A']\n",
      "['Hannah', '20', 'C']\n",
      "['Isla', '22', 'A']\n"
     ]
    }
   ],
   "source": [
    "#Reading Data from Files - CSV\n",
    "#Read data with csv.reader or csv.DictReader for dictionary-like reading.\n",
    "import csv\n",
    "with open('students.csv', 'r') as file:\n",
    "    csv_reader = csv.reader(file)    # csv.DictReader as dictionary, Only csv.reader as list\n",
    "    for row in csv_reader:\n",
    "        print(row)"
   ]
  },
  {
   "cell_type": "code",
   "execution_count": 237,
   "id": "392af6f1",
   "metadata": {},
   "outputs": [
    {
     "name": "stdout",
     "output_type": "stream",
     "text": [
      "A\n",
      "F\n",
      "B\n",
      "A\n",
      "A\n",
      "C\n",
      "A\n",
      "C\n",
      "A\n"
     ]
    }
   ],
   "source": [
    "import csv\n",
    "with open('students.csv', 'r') as file:\n",
    "    csv_reader = csv.DictReader(file)    # csv.DictReader as dictionary, Only csv.reader as list\n",
    "    for row in csv_reader:\n",
    "        print(row['Grade'])"
   ]
  },
  {
   "cell_type": "code",
   "execution_count": null,
   "id": "59089186",
   "metadata": {},
   "outputs": [],
   "source": [
    "#READING JSON\n",
    "import json\n",
    "with open('data.json', 'r') as file:\n",
    "    data = json.load(file)"
   ]
  },
  {
   "cell_type": "code",
   "execution_count": 242,
   "id": "4c2ce1a4",
   "metadata": {},
   "outputs": [
    {
     "name": "stdout",
     "output_type": "stream",
     "text": [
      "State: Johor, Capital: Johor Bahru, Population: 3794000\n",
      "State: Kedah, Capital: Alor Setar, Population: 2194100\n",
      "State: Kelantan, Capital: Kota Bharu, Population: 1928800\n",
      "State: Malacca, Capital: Malacca City, Population: 937500\n",
      "State: Negeri Sembilan, Capital: Seremban, Population: 1129100\n",
      "State: Pahang, Capital: Kuantan, Population: 1684600\n",
      "State: Penang, Capital: George Town, Population: 1774400\n",
      "State: Perak, Capital: Ipoh, Population: 2508900\n",
      "State: Perlis, Capital: Kangar, Population: 255400\n",
      "State: Sabah, Capital: Kota Kinabalu, Population: 3833000\n",
      "State: Sarawak, Capital: Kuching, Population: 2822200\n",
      "State: Selangor, Capital: Shah Alam, Population: 6555400\n",
      "State: Terengganu, Capital: Kuala Terengganu, Population: 1275100\n",
      "State: Kuala Lumpur, Capital: Kuala Lumpur, Population: 1746600\n",
      "State: Labuan, Capital: Victoria, Population: 100100\n",
      "State: Putrajaya, Capital: Putrajaya, Population: 116100\n"
     ]
    }
   ],
   "source": [
    "# WEB API READING\n",
    "import requests\n",
    "api_url = \"https://jian.sh/malaysia-api/state/v1/all.json\"\n",
    "response = requests.get(api_url)\n",
    "malaysia_state_data = response.json()\n",
    "\n",
    "for state in malaysia_state_data:\n",
    "    print(f\"State: {state['state']}, Capital: {state['capital']}, Population: {state['population']}\")"
   ]
  },
  {
   "cell_type": "code",
   "execution_count": 245,
   "id": "33be75a5",
   "metadata": {},
   "outputs": [
    {
     "name": "stdout",
     "output_type": "stream",
     "text": [
      "Enter the name of a state: Johor\n",
      "Population of Johor : 3794000\n"
     ]
    }
   ],
   "source": [
    "# using web data\n",
    "import requests\n",
    "api_url = \"https://jian.sh/malaysia-api/state/v1/all.json\"\n",
    "response = requests.get(api_url)\n",
    "malaysia_state_data = response.json()\n",
    "\n",
    "state_input = input(\"Enter the name of a state: \")\n",
    "for state in malaysia_state_data:\n",
    "        if state['state'] == state_input:\n",
    "            print(\"Population of\", state_input,\":\",state['population'])   \n",
    "        break\n",
    "if state['state'] != state_input:\n",
    "    print(state_input,'is not found in the data')      "
   ]
  },
  {
   "cell_type": "code",
   "execution_count": 243,
   "id": "04919fa4",
   "metadata": {},
   "outputs": [],
   "source": [
    "# Writing data to a text file.\n",
    "with open('output.txt', 'w') as file:\n",
    "    file.write('Hello, Python!')\n",
    "    file.write('Hello, world!')\n",
    "    file.write('\\n')\n",
    "    file.write('\\nHello, world!')\n",
    "    file.write('str')"
   ]
  },
  {
   "cell_type": "code",
   "execution_count": 244,
   "id": "a0ffe9ac",
   "metadata": {},
   "outputs": [],
   "source": [
    "# WRITTING JASON\n",
    "import json\n",
    "data = {'name': 'Alice', 'age': 30}\n",
    "with open('output.json', 'w') as file:\n",
    "    json.dump(data, file)"
   ]
  },
  {
   "cell_type": "code",
   "execution_count": 248,
   "id": "f879bf81",
   "metadata": {},
   "outputs": [],
   "source": [
    "#writting csv\n",
    "import csv\n",
    "with open('output.csv', 'w', newline='') as file:\n",
    "    writer = csv.writer(file)\n",
    "    writer.writerow(['Name', 'Age'])\n",
    "    writer.writerow(['Alice', 30])"
   ]
  },
  {
   "cell_type": "code",
   "execution_count": 259,
   "id": "dfe32606",
   "metadata": {},
   "outputs": [],
   "source": [
    "import csv\n",
    "input_file = 'students.csv'\n",
    "output_file = 'top_students.csv'\n",
    "with open(input_file, 'r') as file:\n",
    "    csv_reader = csv.DictReader(file)\n",
    "   # define \n",
    "    modified_rows=[]\n",
    "    for row in csv_reader:\n",
    "        # Check if the grade is greater than or equal to 'B'\n",
    "        if row['Grade'] <= 'B':\n",
    "            # Add a new 'Status' column and set its value to 'Passed'\n",
    "            row['Status'] = 'Passed'\n",
    "            # Append the row to the list\n",
    "            #pint(row)\n",
    "            modified_rows.append(row) #save\n",
    "\n",
    "with open(output_file, 'w', newline='') as file:\n",
    "    \n",
    "    writer = csv.writer(file)\n",
    "    writer.writerow(['Name', 'Age', 'Grade', 'Status'])\n",
    "    \n",
    "    for student in modified_rows:\n",
    "        writer.writerow([student['Name'], student['Age'], student['Grade'], student['Status']])"
   ]
  },
  {
   "cell_type": "code",
   "execution_count": null,
   "id": "5dc42da0",
   "metadata": {},
   "outputs": [],
   "source": []
  },
  {
   "cell_type": "markdown",
   "id": "d5c08dc7",
   "metadata": {},
   "source": [
    "# Exceptions"
   ]
  },
  {
   "cell_type": "code",
   "execution_count": 16,
   "id": "a5f5dbca",
   "metadata": {},
   "outputs": [],
   "source": [
    "#ValueError: Occurs when a function receives an argument with the right type but an inappropriate value.\n",
    "#Example: int('a') - Trying to convert a non-numeric string into an integer.\n",
    "\n",
    "#TypeError: Happens when an operation is performed on an object of an inappropriate type.\n",
    "#Example: \"2\" + 2 - Attempting to add a string and an integer.\n",
    "\n",
    "#IndexError: Triggered when attempting to access an index that is out of the range of a sequence (like a list).\n",
    "#Example: my_list = [1,2,3]; my_list[3] - Accessing a non-existent fourth element in a three-element list.\n",
    "\n",
    "#KeyError: Occurs when a dictionary key is not found.\n",
    "#Example: my_dict = {'a': 1}; my_dict['b']\n",
    "\n",
    "#NameError: When an attempt is made to access a local or global name that is not defined.\n",
    "#Example: print(unknown_var)"
   ]
  },
  {
   "cell_type": "code",
   "execution_count": 17,
   "id": "a7c012c7",
   "metadata": {},
   "outputs": [
    {
     "name": "stdout",
     "output_type": "stream",
     "text": [
      "Enter a number: F\n",
      "That's not a number!\n"
     ]
    }
   ],
   "source": [
    "try:\n",
    "    number = int(input(\"Enter a number: \"))\n",
    "except ValueError:\n",
    "    print(\"That's not a number!\")\n"
   ]
  },
  {
   "cell_type": "code",
   "execution_count": 15,
   "id": "30c70eb6",
   "metadata": {},
   "outputs": [
    {
     "name": "stdout",
     "output_type": "stream",
     "text": [
      "Enter a number: 4\n",
      "You entered a number!\n",
      "This is executed no matter what!\n"
     ]
    }
   ],
   "source": [
    "try:\n",
    "    number = int(input(\"Enter a number: \"))\n",
    "except ValueError:\n",
    "    print(\"That's not a number!\")\n",
    "else:\n",
    "    print(\"You entered a number!\")\n",
    "finally:\n",
    "    print(\"This is executed no matter what!\")"
   ]
  },
  {
   "cell_type": "code",
   "execution_count": 20,
   "id": "5315cbc4",
   "metadata": {},
   "outputs": [
    {
     "name": "stdout",
     "output_type": "stream",
     "text": [
      "Enter a number: 0\n",
      "Division by zero is not allowed.\n"
     ]
    }
   ],
   "source": [
    "try:\n",
    "    user_input = input(\"Enter a number: \")\n",
    "    result = 1 / int(user_input)\n",
    "    print(result)\n",
    "except ValueError:\n",
    "    print(\"Please enter a valid integer.\")\n",
    "except ZeroDivisionError:\n",
    "    print(\"Division by zero is not allowed.\")"
   ]
  },
  {
   "cell_type": "code",
   "execution_count": 96,
   "id": "fba31700",
   "metadata": {},
   "outputs": [
    {
     "name": "stdout",
     "output_type": "stream",
     "text": [
      "operator: *\n",
      "number1:7.54\n",
      "number2:9.097\n",
      "answer: 7.54 * 9.097 = 68.59138\n"
     ]
    }
   ],
   "source": [
    "try:\n",
    "    operation = input(\"operator: \")\n",
    "    num1 = float(input('number1:'))\n",
    "    num2 = float(input('number2:'))\n",
    "\n",
    "    \n",
    "    if operation == '+':\n",
    "        print('answer:', num1, operation, num2,\"=\", num1+num2)\n",
    "    elif operation == '-':\n",
    "        print('answer:', num1, operation, num2,\"=\", num1-num2)\n",
    "    elif operation == '*':\n",
    "        print('answer:', num1, operation, num2,\"=\", num1*num2)\n",
    "    elif operation == '/':\n",
    "        if num2 == 0:\n",
    "            raise ZeroDivisionError(\"Error: Cannot divide by zero\")\n",
    "            print('answer:', num1, operation, num2,\"=\", num1/num2)\n",
    "    else:\n",
    "        raise Exception(\"Invalid operation. Please enter +, -, *, or /.\")\n",
    "\n",
    "except ValueError:\n",
    "    print(\"Please enter a valid integer.\")\n",
    "except ZeroDivisionError as e:\n",
    "    print(\"Division by zero is not allowed.\")        \n",
    "except Exception:\n",
    "    print(\"An unexpected error occurred check the operator or numbers\")        "
   ]
  }
 ],
 "metadata": {
  "kernelspec": {
   "display_name": "Python 3 (ipykernel)",
   "language": "python",
   "name": "python3"
  },
  "language_info": {
   "codemirror_mode": {
    "name": "ipython",
    "version": 3
   },
   "file_extension": ".py",
   "mimetype": "text/x-python",
   "name": "python",
   "nbconvert_exporter": "python",
   "pygments_lexer": "ipython3",
   "version": "3.11.5"
  }
 },
 "nbformat": 4,
 "nbformat_minor": 5
}
