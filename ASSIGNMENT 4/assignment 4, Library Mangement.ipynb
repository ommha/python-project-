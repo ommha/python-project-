{
 "cells": [
  {
   "cell_type": "markdown",
   "id": "4a44ac23",
   "metadata": {},
   "source": [
    "# Name: Om Mhatre (S2188674)"
   ]
  },
  {
   "cell_type": "markdown",
   "id": "ee3e2326",
   "metadata": {},
   "source": [
    "# Assignment 4: Library Management"
   ]
  },
  {
   "cell_type": "code",
   "execution_count": 78,
   "id": "cf580f4c",
   "metadata": {},
   "outputs": [],
   "source": [
    "def checkout_book(librarian_name, *Book_titles, duration='2 weeks', **kwargs):\n",
    "    print(\"check-out processed by: \" + librarian_name)\n",
    "    \n",
    "    print(\"Books checked out:\")\n",
    "    \n",
    "    for Book in Book_titles:  \n",
    "        print(\"-\" + Book )  \n",
    "    print(\"Check-out Duration: \" + duration)\n",
    "    \n",
    "    print(\"Additional Check-out details:\")\n",
    "    \n",
    "    for details,value in kwargs.items():\n",
    "       \n",
    "        print(\"-\"+ details+\": \"+value)\n",
    "        \n",
    "    print(\"Special conditions for checkout:\")\n",
    "    \n",
    "    print(\"-\"+value)\n",
    "    \n",
    "    "
   ]
  },
  {
   "cell_type": "code",
   "execution_count": 79,
   "id": "dbbc1ff3",
   "metadata": {},
   "outputs": [
    {
     "name": "stdout",
     "output_type": "stream",
     "text": [
      "check-out processed by: Smith James\n",
      "Books checked out:\n",
      "-FAIRY-TALES\n",
      "-WW-II\n",
      "Check-out Duration: 3 weeks\n",
      "Additional Check-out details:\n",
      "-Late_fee: $0.25\n",
      "-renewals_allowed: 2\n",
      "-statement: Handel with care\n",
      "Special conditions for checkout:\n",
      "-Handel with care\n"
     ]
    }
   ],
   "source": [
    "checkout_book('Smith James',\"FAIRY-TALES\", \"WW-II\", duration= \"3 weeks\", Late_fee='$0.25', renewals_allowed='2',statement=\"Handel with care\")"
   ]
  },
  {
   "cell_type": "code",
   "execution_count": null,
   "id": "c3fe797d",
   "metadata": {},
   "outputs": [],
   "source": []
  },
  {
   "cell_type": "code",
   "execution_count": null,
   "id": "207777ea",
   "metadata": {},
   "outputs": [],
   "source": []
  }
 ],
 "metadata": {
  "kernelspec": {
   "display_name": "Python 3 (ipykernel)",
   "language": "python",
   "name": "python3"
  },
  "language_info": {
   "codemirror_mode": {
    "name": "ipython",
    "version": 3
   },
   "file_extension": ".py",
   "mimetype": "text/x-python",
   "name": "python",
   "nbconvert_exporter": "python",
   "pygments_lexer": "ipython3",
   "version": "3.11.5"
  }
 },
 "nbformat": 4,
 "nbformat_minor": 5
}
