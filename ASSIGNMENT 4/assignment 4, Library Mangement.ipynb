{
 "cells": [
  {
   "cell_type": "code",
   "execution_count": 47,
   "id": "2e90a67f",
   "metadata": {},
   "outputs": [],
   "source": [
    "def checkout_book(librarian_name, *Book_titles, duration='2 weeks', **kwargs):\n",
    "    print(\"check-out processed by: \" + librarian_name)\n",
    "    \n",
    "    print(\"Books checked out\")\n",
    "    \n",
    "    for Book in Book_titles:  \n",
    "        print(\"-\" + Book )  \n",
    "    print(\"Check-out Duration: \" + duration)\n",
    "    \n",
    "    print(\"Additional Check-out details:\")\n",
    "    \n",
    "    for details,value in kwargs.items():\n",
    "       \n",
    "        print(details+\": \"+value)\n",
    "        \n",
    "    print(\"Special conditions for checkout:\")\n",
    "    \n",
    "    print(value)\n",
    "    \n",
    "    "
   ]
  },
  {
   "cell_type": "code",
   "execution_count": 48,
   "id": "070b545c",
   "metadata": {},
   "outputs": [
    {
     "name": "stdout",
     "output_type": "stream",
     "text": [
      "check-out processed by: Smith James\n",
      "Books checked out\n",
      "-FAIRY-TALES\n",
      "-WW-II\n",
      "Check-out Duration: 3 weeks\n",
      "Additional Check-out details:\n",
      "Late_fee: $0.25\n",
      "renewals_allowed: 2\n",
      "statement: handle with care\n",
      "Special conditions for checkout:\n",
      "handle with care\n"
     ]
    }
   ],
   "source": [
    "checkout_book('Smith James',\"FAIRY-TALES\", \"WW-II\", duration= \"3 weeks\", Late_fee='$0.25', renewals_allowed='2', statement =\"handle with care\")"
   ]
  },
  {
   "cell_type": "code",
   "execution_count": null,
   "id": "9110c525",
   "metadata": {},
   "outputs": [],
   "source": []
  }
 ],
 "metadata": {
  "kernelspec": {
   "display_name": "Python 3 (ipykernel)",
   "language": "python",
   "name": "python3"
  },
  "language_info": {
   "codemirror_mode": {
    "name": "ipython",
    "version": 3
   },
   "file_extension": ".py",
   "mimetype": "text/x-python",
   "name": "python",
   "nbconvert_exporter": "python",
   "pygments_lexer": "ipython3",
   "version": "3.11.5"
  }
 },
 "nbformat": 4,
 "nbformat_minor": 5
}
